{
 "cells": [
  {
   "cell_type": "markdown",
   "metadata": {
    "tags": [
     "pdf-title"
    ]
   },
   "source": [
    "# Fully-Connected Neural Nets\n",
    "In the previous homework you implemented a fully-connected two-layer neural network on CIFAR-10. The implementation was simple but not very modular since the loss and gradient were computed in a single monolithic function. This is manageable for a simple two-layer network, but would become impractical as we move to bigger models. Ideally we want to build networks using a more modular design so that we can implement different layer types in isolation and then snap them together into models with different architectures."
   ]
  },
  {
   "cell_type": "markdown",
   "metadata": {
    "tags": [
     "pdf-ignore"
    ]
   },
   "source": [
    "In this exercise we will implement fully-connected networks using a more modular approach. For each layer we will implement a `forward` and a `backward` function. The `forward` function will receive inputs, weights, and other parameters and will return both an output and a `cache` object storing data needed for the backward pass, like this:\n",
    "\n",
    "```python\n",
    "def layer_forward(x, w):\n",
    "  \"\"\" Receive inputs x and weights w \"\"\"\n",
    "  # Do some computations ...\n",
    "  z = # ... some intermediate value\n",
    "  # Do some more computations ...\n",
    "  out = # the output\n",
    "   \n",
    "  cache = (x, w, z, out) # Values we need to compute gradients\n",
    "   \n",
    "  return out, cache\n",
    "```\n",
    "\n",
    "The backward pass will receive upstream derivatives and the `cache` object, and will return gradients with respect to the inputs and weights, like this:\n",
    "\n",
    "```python\n",
    "def layer_backward(dout, cache):\n",
    "  \"\"\"\n",
    "  Receive dout (derivative of loss with respect to outputs) and cache,\n",
    "  and compute derivative with respect to inputs.\n",
    "  \"\"\"\n",
    "  # Unpack cache values\n",
    "  x, w, z, out = cache\n",
    "  \n",
    "  # Use values in cache to compute derivatives\n",
    "  dx = # Derivative of loss with respect to x\n",
    "  dw = # Derivative of loss with respect to w\n",
    "  \n",
    "  return dx, dw\n",
    "```\n",
    "\n",
    "After implementing a bunch of layers this way, we will be able to easily combine them to build classifiers with different architectures.\n",
    "\n",
    "In addition to implementing fully-connected networks of arbitrary depth, we will also explore different update rules for optimization, and introduce Dropout as a regularizer and Batch/Layer Normalization as a tool to more efficiently optimize deep networks.\n",
    "  "
   ]
  },
  {
   "cell_type": "code",
   "execution_count": 1,
   "metadata": {
    "tags": [
     "pdf-ignore"
    ]
   },
   "outputs": [
    {
     "name": "stdout",
     "output_type": "stream",
     "text": [
      "run the following from the cs231n directory and try again:\n",
      "python setup.py build_ext --inplace\n",
      "You may also need to restart your iPython kernel\n"
     ]
    }
   ],
   "source": [
    "# As usual, a bit of setup\n",
    "from __future__ import print_function\n",
    "import time\n",
    "import numpy as np\n",
    "import matplotlib.pyplot as plt\n",
    "from cs231n.classifiers.fc_net import *\n",
    "from cs231n.data_utils import get_CIFAR10_data\n",
    "from cs231n.gradient_check import eval_numerical_gradient, eval_numerical_gradient_array\n",
    "from cs231n.solver import Solver\n",
    "\n",
    "%matplotlib inline\n",
    "plt.rcParams['figure.figsize'] = (10.0, 8.0) # set default size of plots\n",
    "plt.rcParams['image.interpolation'] = 'nearest'\n",
    "plt.rcParams['image.cmap'] = 'gray'\n",
    "\n",
    "# for auto-reloading external modules\n",
    "# see http://stackoverflow.com/questions/1907993/autoreload-of-modules-in-ipython\n",
    "%load_ext autoreload\n",
    "%autoreload 2\n",
    "\n",
    "def rel_error(x, y):\n",
    "    \"\"\" returns relative error \"\"\"\n",
    "    return np.max(np.abs(x - y) / (np.maximum(1e-8, np.abs(x) + np.abs(y))))"
   ]
  },
  {
   "cell_type": "code",
   "execution_count": 2,
   "metadata": {
    "scrolled": false,
    "tags": [
     "pdf-ignore"
    ]
   },
   "outputs": [
    {
     "name": "stdout",
     "output_type": "stream",
     "text": [
      "('X_train: ', (49000, 3, 32, 32))\n",
      "('y_train: ', (49000,))\n",
      "('X_val: ', (1000, 3, 32, 32))\n",
      "('y_val: ', (1000,))\n",
      "('X_test: ', (1000, 3, 32, 32))\n",
      "('y_test: ', (1000,))\n"
     ]
    }
   ],
   "source": [
    "# Load the (preprocessed) CIFAR10 data.\n",
    "\n",
    "data = get_CIFAR10_data()\n",
    "for k, v in list(data.items()):\n",
    "    print(('%s: ' % k, v.shape))"
   ]
  },
  {
   "cell_type": "markdown",
   "metadata": {},
   "source": [
    "# Affine layer: foward\n",
    "Open the file `cs231n/layers.py` and implement the `affine_forward` function.\n",
    "\n",
    "Once you are done you can test your implementaion by running the following:"
   ]
  },
  {
   "cell_type": "code",
   "execution_count": 3,
   "metadata": {},
   "outputs": [
    {
     "name": "stdout",
     "output_type": "stream",
     "text": [
      "Testing affine_forward function:\n",
      "difference:  9.769847728806635e-10\n"
     ]
    }
   ],
   "source": [
    "# Test the affine_forward function\n",
    "\n",
    "num_inputs = 2\n",
    "input_shape = (4, 5, 6)\n",
    "output_dim = 3\n",
    "\n",
    "input_size = num_inputs * np.prod(input_shape)\n",
    "weight_size = output_dim * np.prod(input_shape)\n",
    "\n",
    "x = np.linspace(-0.1, 0.5, num=input_size).reshape(num_inputs, *input_shape)\n",
    "w = np.linspace(-0.2, 0.3, num=weight_size).reshape(np.prod(input_shape), output_dim)\n",
    "b = np.linspace(-0.3, 0.1, num=output_dim)\n",
    "\n",
    "out, _ = affine_forward(x, w, b)\n",
    "correct_out = np.array([[ 1.49834967,  1.70660132,  1.91485297],\n",
    "                        [ 3.25553199,  3.5141327,   3.77273342]])\n",
    "\n",
    "# Compare your output with ours. The error should be around e-9 or less.\n",
    "print('Testing affine_forward function:')\n",
    "print('difference: ', rel_error(out, correct_out))"
   ]
  },
  {
   "cell_type": "markdown",
   "metadata": {},
   "source": [
    "# Affine layer: backward\n",
    "Now implement the `affine_backward` function and test your implementation using numeric gradient checking."
   ]
  },
  {
   "cell_type": "code",
   "execution_count": 4,
   "metadata": {
    "scrolled": true
   },
   "outputs": [
    {
     "name": "stdout",
     "output_type": "stream",
     "text": [
      "Testing affine_backward function:\n",
      "dx error:  5.399100368651805e-11\n",
      "dw error:  9.904211865398145e-11\n",
      "db error:  2.4122867568119087e-11\n"
     ]
    }
   ],
   "source": [
    "# Test the affine_backward function\n",
    "np.random.seed(231)\n",
    "x = np.random.randn(10, 2, 3)\n",
    "w = np.random.randn(6, 5)\n",
    "b = np.random.randn(5)\n",
    "dout = np.random.randn(10, 5)\n",
    "\n",
    "dx_num = eval_numerical_gradient_array(lambda x: affine_forward(x, w, b)[0], x, dout)\n",
    "dw_num = eval_numerical_gradient_array(lambda w: affine_forward(x, w, b)[0], w, dout)\n",
    "db_num = eval_numerical_gradient_array(lambda b: affine_forward(x, w, b)[0], b, dout)\n",
    "\n",
    "_, cache = affine_forward(x, w, b)\n",
    "dx, dw, db = affine_backward(dout, cache)\n",
    "\n",
    "# The error should be around e-10 or less\n",
    "print('Testing affine_backward function:')\n",
    "print('dx error: ', rel_error(dx_num, dx))\n",
    "print('dw error: ', rel_error(dw_num, dw))\n",
    "print('db error: ', rel_error(db_num, db))"
   ]
  },
  {
   "cell_type": "markdown",
   "metadata": {},
   "source": [
    "# ReLU activation: forward\n",
    "Implement the forward pass for the ReLU activation function in the `relu_forward` function and test your implementation using the following:"
   ]
  },
  {
   "cell_type": "code",
   "execution_count": 5,
   "metadata": {},
   "outputs": [
    {
     "name": "stdout",
     "output_type": "stream",
     "text": [
      "Testing relu_forward function:\n",
      "difference:  4.999999798022158e-08\n"
     ]
    }
   ],
   "source": [
    "# Test the relu_forward function\n",
    "\n",
    "x = np.linspace(-0.5, 0.5, num=12).reshape(3, 4)\n",
    "\n",
    "out, _ = relu_forward(x)\n",
    "correct_out = np.array([[ 0.,          0.,          0.,          0.,        ],\n",
    "                        [ 0.,          0.,          0.04545455,  0.13636364,],\n",
    "                        [ 0.22727273,  0.31818182,  0.40909091,  0.5,       ]])\n",
    "\n",
    "# Compare your output with ours. The error should be on the order of e-8\n",
    "print('Testing relu_forward function:')\n",
    "print('difference: ', rel_error(out, correct_out))"
   ]
  },
  {
   "cell_type": "markdown",
   "metadata": {},
   "source": [
    "# ReLU activation: backward\n",
    "Now implement the backward pass for the ReLU activation function in the `relu_backward` function and test your implementation using numeric gradient checking:"
   ]
  },
  {
   "cell_type": "code",
   "execution_count": 6,
   "metadata": {},
   "outputs": [
    {
     "name": "stdout",
     "output_type": "stream",
     "text": [
      "Testing relu_backward function:\n",
      "dx error:  3.2756349136310288e-12\n"
     ]
    }
   ],
   "source": [
    "np.random.seed(231)\n",
    "x = np.random.randn(10, 10)\n",
    "dout = np.random.randn(*x.shape)\n",
    "\n",
    "dx_num = eval_numerical_gradient_array(lambda x: relu_forward(x)[0], x, dout)\n",
    "\n",
    "_, cache = relu_forward(x)\n",
    "dx = relu_backward(dout, cache)\n",
    "\n",
    "# The error should be on the order of e-12\n",
    "print('Testing relu_backward function:')\n",
    "print('dx error: ', rel_error(dx_num, dx))"
   ]
  },
  {
   "cell_type": "markdown",
   "metadata": {
    "tags": [
     "pdf-inline"
    ]
   },
   "source": [
    "## Inline Question 1: \n",
    "\n",
    "We've only asked you to implement ReLU, but there are a number of different activation functions that one could use in neural networks, each with its pros and cons. In particular, an issue commonly seen with activation functions is getting zero (or close to zero) gradient flow during backpropagation. Which of the following activation functions have this problem? If you consider these functions in the one dimensional case, what types of input would lead to this behaviour?\n",
    "1. Sigmoid\n",
    "2. ReLU\n",
    "3. Leaky ReLU\n",
    "\n",
    "## Answer:\n",
    "[FILL THIS IN]\n"
   ]
  },
  {
   "cell_type": "markdown",
   "metadata": {},
   "source": [
    "# \"Sandwich\" layers\n",
    "There are some common patterns of layers that are frequently used in neural nets. For example, affine layers are frequently followed by a ReLU nonlinearity. To make these common patterns easy, we define several convenience layers in the file `cs231n/layer_utils.py`.\n",
    "\n",
    "For now take a look at the `affine_relu_forward` and `affine_relu_backward` functions, and run the following to numerically gradient check the backward pass:"
   ]
  },
  {
   "cell_type": "code",
   "execution_count": 7,
   "metadata": {},
   "outputs": [
    {
     "name": "stdout",
     "output_type": "stream",
     "text": [
      "Testing affine_relu_forward and affine_relu_backward:\n",
      "dx error:  6.750562121603446e-11\n",
      "dw error:  8.162015570444288e-11\n",
      "db error:  7.826724021458994e-12\n"
     ]
    }
   ],
   "source": [
    "from cs231n.layer_utils import affine_relu_forward, affine_relu_backward\n",
    "np.random.seed(231)\n",
    "x = np.random.randn(2, 3, 4)\n",
    "w = np.random.randn(12, 10)\n",
    "b = np.random.randn(10)\n",
    "dout = np.random.randn(2, 10)\n",
    "\n",
    "out, cache = affine_relu_forward(x, w, b)\n",
    "dx, dw, db = affine_relu_backward(dout, cache)\n",
    "\n",
    "dx_num = eval_numerical_gradient_array(lambda x: affine_relu_forward(x, w, b)[0], x, dout)\n",
    "dw_num = eval_numerical_gradient_array(lambda w: affine_relu_forward(x, w, b)[0], w, dout)\n",
    "db_num = eval_numerical_gradient_array(lambda b: affine_relu_forward(x, w, b)[0], b, dout)\n",
    "\n",
    "# Relative error should be around e-10 or less\n",
    "print('Testing affine_relu_forward and affine_relu_backward:')\n",
    "print('dx error: ', rel_error(dx_num, dx))\n",
    "print('dw error: ', rel_error(dw_num, dw))\n",
    "print('db error: ', rel_error(db_num, db))"
   ]
  },
  {
   "cell_type": "markdown",
   "metadata": {},
   "source": [
    "# Loss layers: Softmax and SVM\n",
    "You implemented these loss functions in the last assignment, so we'll give them to you for free here. You should still make sure you understand how they work by looking at the implementations in `cs231n/layers.py`.\n",
    "\n",
    "You can make sure that the implementations are correct by running the following:"
   ]
  },
  {
   "cell_type": "code",
   "execution_count": 8,
   "metadata": {},
   "outputs": [
    {
     "name": "stdout",
     "output_type": "stream",
     "text": [
      "Testing svm_loss:\n",
      "loss:  8.999602749096233\n",
      "dx error:  1.4021566006651672e-09\n",
      "\n",
      "Testing softmax_loss:\n",
      "loss:  2.302545844500738\n",
      "dx error:  9.384673161989355e-09\n"
     ]
    }
   ],
   "source": [
    "np.random.seed(231)\n",
    "num_classes, num_inputs = 10, 50\n",
    "x = 0.001 * np.random.randn(num_inputs, num_classes)\n",
    "y = np.random.randint(num_classes, size=num_inputs)\n",
    "\n",
    "dx_num = eval_numerical_gradient(lambda x: svm_loss(x, y)[0], x, verbose=False)\n",
    "loss, dx = svm_loss(x, y)\n",
    "\n",
    "# Test svm_loss function. Loss should be around 9 and dx error should be around the order of e-9\n",
    "print('Testing svm_loss:')\n",
    "print('loss: ', loss)\n",
    "print('dx error: ', rel_error(dx_num, dx))\n",
    "\n",
    "dx_num = eval_numerical_gradient(lambda x: softmax_loss(x, y)[0], x, verbose=False)\n",
    "loss, dx = softmax_loss(x, y)\n",
    "\n",
    "# Test softmax_loss function. Loss should be close to 2.3 and dx error should be around e-8\n",
    "print('\\nTesting softmax_loss:')\n",
    "print('loss: ', loss)\n",
    "print('dx error: ', rel_error(dx_num, dx))"
   ]
  },
  {
   "cell_type": "markdown",
   "metadata": {},
   "source": [
    "# Two-layer network\n",
    "In the previous assignment you implemented a two-layer neural network in a single monolithic class. Now that you have implemented modular versions of the necessary layers, you will reimplement the two layer network using these modular implementations.\n",
    "\n",
    "Open the file `cs231n/classifiers/fc_net.py` and complete the implementation of the `TwoLayerNet` class. This class will serve as a model for the other networks you will implement in this assignment, so read through it to make sure you understand the API. You can run the cell below to test your implementation."
   ]
  },
  {
   "cell_type": "code",
   "execution_count": 9,
   "metadata": {
    "scrolled": true
   },
   "outputs": [
    {
     "name": "stdout",
     "output_type": "stream",
     "text": [
      "Testing initialization ... \n",
      "Testing test-time forward pass ... \n",
      "Testing training loss (no regularization)\n",
      "Running numeric gradient check with reg =  0.0\n",
      "W1 relative error: 1.52e-08\n",
      "W2 relative error: 3.48e-10\n",
      "b1 relative error: 6.55e-09\n",
      "b2 relative error: 4.33e-10\n",
      "Running numeric gradient check with reg =  0.7\n",
      "W1 relative error: 8.18e-07\n",
      "W2 relative error: 2.85e-08\n",
      "b1 relative error: 1.09e-09\n",
      "b2 relative error: 7.76e-10\n"
     ]
    }
   ],
   "source": [
    "np.random.seed(231)\n",
    "N, D, H, C = 3, 5, 50, 7\n",
    "X = np.random.randn(N, D)\n",
    "y = np.random.randint(C, size=N)\n",
    "\n",
    "std = 1e-3\n",
    "model = TwoLayerNet(input_dim=D, hidden_dim=H, num_classes=C, weight_scale=std)\n",
    "\n",
    "print('Testing initialization ... ')\n",
    "W1_std = abs(model.params['W1'].std() - std)\n",
    "b1 = model.params['b1']\n",
    "W2_std = abs(model.params['W2'].std() - std)\n",
    "b2 = model.params['b2']\n",
    "assert W1_std < std / 10, 'First layer weights do not seem right'\n",
    "assert np.all(b1 == 0), 'First layer biases do not seem right'\n",
    "assert W2_std < std / 10, 'Second layer weights do not seem right'\n",
    "assert np.all(b2 == 0), 'Second layer biases do not seem right'\n",
    "\n",
    "print('Testing test-time forward pass ... ')\n",
    "model.params['W1'] = np.linspace(-0.7, 0.3, num=D*H).reshape(D, H)\n",
    "model.params['b1'] = np.linspace(-0.1, 0.9, num=H)\n",
    "model.params['W2'] = np.linspace(-0.3, 0.4, num=H*C).reshape(H, C)\n",
    "model.params['b2'] = np.linspace(-0.9, 0.1, num=C)\n",
    "X = np.linspace(-5.5, 4.5, num=N*D).reshape(D, N).T\n",
    "scores = model.loss(X)\n",
    "correct_scores = np.asarray(\n",
    "  [[11.53165108,  12.2917344,   13.05181771,  13.81190102,  14.57198434, 15.33206765,  16.09215096],\n",
    "   [12.05769098,  12.74614105,  13.43459113,  14.1230412,   14.81149128, 15.49994135,  16.18839143],\n",
    "   [12.58373087,  13.20054771,  13.81736455,  14.43418138,  15.05099822, 15.66781506,  16.2846319 ]])\n",
    "scores_diff = np.abs(scores - correct_scores).sum()\n",
    "assert scores_diff < 1e-6, 'Problem with test-time forward pass'\n",
    "\n",
    "print('Testing training loss (no regularization)')\n",
    "y = np.asarray([0, 5, 1])\n",
    "loss, grads = model.loss(X, y)\n",
    "correct_loss = 3.4702243556\n",
    "assert abs(loss - correct_loss) < 1e-10, 'Problem with training-time loss'\n",
    "\n",
    "model.reg = 1.0\n",
    "loss, grads = model.loss(X, y)\n",
    "correct_loss = 26.5948426952\n",
    "assert abs(loss - correct_loss) < 1e-10, 'Problem with regularization loss'\n",
    "\n",
    "# Errors should be around e-7 or less\n",
    "for reg in [0.0, 0.7]:\n",
    "    print('Running numeric gradient check with reg = ', reg)\n",
    "    model.reg = reg\n",
    "    loss, grads = model.loss(X, y)\n",
    "\n",
    "    for name in sorted(grads):\n",
    "        f = lambda _: model.loss(X, y)[0]\n",
    "        grad_num = eval_numerical_gradient(f, model.params[name], verbose=False)\n",
    "        print('%s relative error: %.2e' % (name, rel_error(grad_num, grads[name])))"
   ]
  },
  {
   "cell_type": "markdown",
   "metadata": {},
   "source": [
    "# Solver\n",
    "In the previous assignment, the logic for training models was coupled to the models themselves. Following a more modular design, for this assignment we have split the logic for training models into a separate class.\n",
    "\n",
    "Open the file `cs231n/solver.py` and read through it to familiarize yourself with the API. After doing so, use a `Solver` instance to train a `TwoLayerNet` that achieves at least `50%` accuracy on the validation set."
   ]
  },
  {
   "cell_type": "code",
   "execution_count": 10,
   "metadata": {},
   "outputs": [
    {
     "name": "stdout",
     "output_type": "stream",
     "text": [
      "(Iteration 1 / 9800) loss: 2.307251\n",
      "(Epoch 0 / 20) train acc: 0.064000; val_acc: 0.071000\n",
      "(Iteration 101 / 9800) loss: 2.291718\n",
      "(Iteration 201 / 9800) loss: 2.281714\n",
      "(Iteration 301 / 9800) loss: 2.266972\n",
      "(Iteration 401 / 9800) loss: 2.242070\n",
      "(Epoch 1 / 20) train acc: 0.240000; val_acc: 0.251000\n",
      "(Iteration 501 / 9800) loss: 2.173681\n",
      "(Iteration 601 / 9800) loss: 2.224205\n",
      "(Iteration 701 / 9800) loss: 2.211159\n",
      "(Iteration 801 / 9800) loss: 2.130607\n",
      "(Iteration 901 / 9800) loss: 2.150518\n",
      "(Epoch 2 / 20) train acc: 0.249000; val_acc: 0.264000\n",
      "(Iteration 1001 / 9800) loss: 2.107241\n",
      "(Iteration 1101 / 9800) loss: 2.117261\n",
      "(Iteration 1201 / 9800) loss: 2.157735\n",
      "(Iteration 1301 / 9800) loss: 2.054673\n",
      "(Iteration 1401 / 9800) loss: 2.004812\n",
      "(Epoch 3 / 20) train acc: 0.268000; val_acc: 0.270000\n",
      "(Iteration 1501 / 9800) loss: 2.045918\n",
      "(Iteration 1601 / 9800) loss: 2.006311\n",
      "(Iteration 1701 / 9800) loss: 1.970484\n",
      "(Iteration 1801 / 9800) loss: 2.061838\n",
      "(Iteration 1901 / 9800) loss: 2.023297\n",
      "(Epoch 4 / 20) train acc: 0.289000; val_acc: 0.281000\n",
      "(Iteration 2001 / 9800) loss: 2.081405\n",
      "(Iteration 2101 / 9800) loss: 1.959823\n",
      "(Iteration 2201 / 9800) loss: 2.003822\n",
      "(Iteration 2301 / 9800) loss: 1.979346\n",
      "(Iteration 2401 / 9800) loss: 1.988220\n",
      "(Epoch 5 / 20) train acc: 0.278000; val_acc: 0.303000\n",
      "(Iteration 2501 / 9800) loss: 2.000018\n",
      "(Iteration 2601 / 9800) loss: 1.982472\n",
      "(Iteration 2701 / 9800) loss: 1.947363\n",
      "(Iteration 2801 / 9800) loss: 1.846604\n",
      "(Iteration 2901 / 9800) loss: 1.885516\n",
      "(Epoch 6 / 20) train acc: 0.298000; val_acc: 0.310000\n",
      "(Iteration 3001 / 9800) loss: 2.024420\n",
      "(Iteration 3101 / 9800) loss: 2.020699\n",
      "(Iteration 3201 / 9800) loss: 1.895535\n",
      "(Iteration 3301 / 9800) loss: 1.993177\n",
      "(Iteration 3401 / 9800) loss: 2.024736\n",
      "(Epoch 7 / 20) train acc: 0.321000; val_acc: 0.315000\n",
      "(Iteration 3501 / 9800) loss: 1.895922\n",
      "(Iteration 3601 / 9800) loss: 1.894718\n",
      "(Iteration 3701 / 9800) loss: 1.994540\n",
      "(Iteration 3801 / 9800) loss: 1.905804\n",
      "(Iteration 3901 / 9800) loss: 1.957276\n",
      "(Epoch 8 / 20) train acc: 0.303000; val_acc: 0.327000\n",
      "(Iteration 4001 / 9800) loss: 2.040616\n",
      "(Iteration 4101 / 9800) loss: 1.999340\n",
      "(Iteration 4201 / 9800) loss: 1.825505\n",
      "(Iteration 4301 / 9800) loss: 1.873045\n",
      "(Iteration 4401 / 9800) loss: 1.893020\n",
      "(Epoch 9 / 20) train acc: 0.315000; val_acc: 0.332000\n",
      "(Iteration 4501 / 9800) loss: 1.800468\n",
      "(Iteration 4601 / 9800) loss: 2.016806\n",
      "(Iteration 4701 / 9800) loss: 1.927489\n",
      "(Iteration 4801 / 9800) loss: 1.858189\n",
      "(Epoch 10 / 20) train acc: 0.325000; val_acc: 0.334000\n",
      "(Iteration 4901 / 9800) loss: 1.977437\n",
      "(Iteration 5001 / 9800) loss: 1.841094\n",
      "(Iteration 5101 / 9800) loss: 1.854401\n",
      "(Iteration 5201 / 9800) loss: 1.876395\n",
      "(Iteration 5301 / 9800) loss: 1.874572\n",
      "(Epoch 11 / 20) train acc: 0.303000; val_acc: 0.339000\n",
      "(Iteration 5401 / 9800) loss: 1.917778\n",
      "(Iteration 5501 / 9800) loss: 2.014366\n",
      "(Iteration 5601 / 9800) loss: 1.871412\n",
      "(Iteration 5701 / 9800) loss: 1.968689\n",
      "(Iteration 5801 / 9800) loss: 1.939415\n",
      "(Epoch 12 / 20) train acc: 0.312000; val_acc: 0.345000\n",
      "(Iteration 5901 / 9800) loss: 1.886394\n",
      "(Iteration 6001 / 9800) loss: 1.841134\n",
      "(Iteration 6101 / 9800) loss: 1.899627\n",
      "(Iteration 6201 / 9800) loss: 1.924655\n",
      "(Iteration 6301 / 9800) loss: 2.062397\n",
      "(Epoch 13 / 20) train acc: 0.349000; val_acc: 0.347000\n",
      "(Iteration 6401 / 9800) loss: 1.901003\n",
      "(Iteration 6501 / 9800) loss: 1.790522\n",
      "(Iteration 6601 / 9800) loss: 1.740337\n",
      "(Iteration 6701 / 9800) loss: 1.923419\n",
      "(Iteration 6801 / 9800) loss: 1.932910\n",
      "(Epoch 14 / 20) train acc: 0.361000; val_acc: 0.350000\n",
      "(Iteration 6901 / 9800) loss: 1.889359\n",
      "(Iteration 7001 / 9800) loss: 1.879279\n",
      "(Iteration 7101 / 9800) loss: 1.797894\n",
      "(Iteration 7201 / 9800) loss: 1.817151\n",
      "(Iteration 7301 / 9800) loss: 1.874495\n",
      "(Epoch 15 / 20) train acc: 0.346000; val_acc: 0.358000\n",
      "(Iteration 7401 / 9800) loss: 1.747218\n",
      "(Iteration 7501 / 9800) loss: 1.877035\n",
      "(Iteration 7601 / 9800) loss: 1.829303\n",
      "(Iteration 7701 / 9800) loss: 1.776628\n",
      "(Iteration 7801 / 9800) loss: 1.926592\n",
      "(Epoch 16 / 20) train acc: 0.341000; val_acc: 0.359000\n",
      "(Iteration 7901 / 9800) loss: 1.774857\n",
      "(Iteration 8001 / 9800) loss: 1.733725\n",
      "(Iteration 8101 / 9800) loss: 1.861427\n",
      "(Iteration 8201 / 9800) loss: 1.885244\n",
      "(Iteration 8301 / 9800) loss: 1.900171\n",
      "(Epoch 17 / 20) train acc: 0.341000; val_acc: 0.360000\n",
      "(Iteration 8401 / 9800) loss: 1.707982\n",
      "(Iteration 8501 / 9800) loss: 1.950962\n",
      "(Iteration 8601 / 9800) loss: 1.794233\n",
      "(Iteration 8701 / 9800) loss: 1.924298\n",
      "(Iteration 8801 / 9800) loss: 1.979060\n",
      "(Epoch 18 / 20) train acc: 0.378000; val_acc: 0.363000\n",
      "(Iteration 8901 / 9800) loss: 1.930208\n",
      "(Iteration 9001 / 9800) loss: 1.816309\n",
      "(Iteration 9101 / 9800) loss: 1.696390\n",
      "(Iteration 9201 / 9800) loss: 1.959441\n",
      "(Iteration 9301 / 9800) loss: 1.799308\n",
      "(Epoch 19 / 20) train acc: 0.342000; val_acc: 0.366000\n",
      "(Iteration 9401 / 9800) loss: 1.820528\n",
      "(Iteration 9501 / 9800) loss: 1.877215\n",
      "(Iteration 9601 / 9800) loss: 1.834500\n",
      "(Iteration 9701 / 9800) loss: 1.821463\n",
      "(Epoch 20 / 20) train acc: 0.339000; val_acc: 0.366000\n"
     ]
    }
   ],
   "source": [
    "model = TwoLayerNet()\n",
    "solver = None\n",
    "\n",
    "##############################################################################\n",
    "# TODO: Use a Solver instance to train a TwoLayerNet that achieves at least  #\n",
    "# 50% accuracy on the validation set.                                        #\n",
    "##############################################################################\n",
    "# *****START OF YOUR CODE (DO NOT DELETE/MODIFY THIS LINE)*****\n",
    "#help(Solver)\n",
    "solver = Solver(model, data,\n",
    "               update_rule='sgd',\n",
    "               optim_config={\n",
    "                  'learning_rate': 1e-5,\n",
    "               },\n",
    "               lr_decay=0.95,\n",
    "               num_epochs=20, batch_size=100,\n",
    "               print_every=100)\n",
    "solver.train()"
   ]
  },
  {
   "cell_type": "code",
   "execution_count": 13,
   "metadata": {
    "scrolled": true
   },
   "outputs": [
    {
     "data": {
      "image/png": "[encoded data removed]",
      "text/plain": [
       "<Figure size 1080x864 with 2 Axes>"
      ]
     },
     "metadata": {
      "needs_background": "light"
     },
     "output_type": "display_data"
    }
   ],
   "source": [
    "# Run this cell to visualize training loss and train / val accuracy\n",
    "\n",
    "plt.subplot(2, 1, 1)\n",
    "plt.title('Training loss')\n",
    "plt.plot(solver.loss_history, 'o')\n",
    "plt.xlabel('Iteration')\n",
    "\n",
    "plt.subplot(2, 1, 2)\n",
    "plt.title('Accuracy')\n",
    "plt.plot(solver.train_acc_history, '-o', label='train')\n",
    "plt.plot(solver.val_acc_history, '-o', label='val')\n",
    "plt.plot([0.5] * len(solver.val_acc_history), 'k--')\n",
    "plt.xlabel('Epoch')\n",
    "plt.legend(loc='lower right')\n",
    "plt.gcf().set_size_inches(15, 12)\n",
    "plt.show()"
   ]
  },
  {
   "cell_type": "markdown",
   "metadata": {},
   "source": [
    "# Multilayer network\n",
    "Next you will implement a fully-connected network with an arbitrary number of hidden layers.\n",
    "\n",
    "Read through the `FullyConnectedNet` class in the file `cs231n/classifiers/fc_net.py`.\n",
    "\n",
    "Implement the initialization, the forward pass, and the backward pass. For the moment don't worry about implementing dropout or batch/layer normalization; we will add those features soon."
   ]
  },
  {
   "cell_type": "markdown",
   "metadata": {},
   "source": [
    "## Initial loss and gradient check\n",
    "\n",
    "As a sanity check, run the following to check the initial loss and to gradient check the network both with and without regularization. Do the initial losses seem reasonable?\n",
    "\n",
    "For gradient checking, you should expect to see errors around 1e-7 or less."
   ]
  },
  {
   "cell_type": "code",
   "execution_count": 67,
   "metadata": {
    "scrolled": false
   },
   "outputs": [
    {
     "name": "stdout",
     "output_type": "stream",
     "text": [
      "Running check with reg =  0\n",
      "Initial loss:  2.303059698318541\n",
      "W1 relative error: 3.04e-07\n",
      "W2 relative error: 9.48e-06\n",
      "W3 relative error: 1.14e-07\n",
      "b1 relative error: 1.19e-08\n",
      "b2 relative error: 1.90e-08\n",
      "b3 relative error: 1.45e-10\n",
      "Running check with reg =  3.14\n",
      "Initial loss:  7.052309055563792\n",
      "W1 relative error: 4.95e-08\n",
      "W2 relative error: 3.52e-08\n",
      "W3 relative error: 8.66e-09\n",
      "b1 relative error: 3.25e-08\n",
      "b2 relative error: 3.96e-09\n",
      "b3 relative error: 2.41e-10\n"
     ]
    }
   ],
   "source": [
    "np.random.seed(231)\n",
    "N, D, H1, H2, C = 2, 15, 20, 30, 10\n",
    "X = np.random.randn(N, D)\n",
    "y = np.random.randint(C, size=(N,))\n",
    "\n",
    "for reg in [0, 3.14]:\n",
    "    print('Running check with reg = ', reg)\n",
    "    model = FullyConnectedNet([H1, H2], input_dim=D, num_classes=C,\n",
    "                            reg=reg, weight_scale=5e-2, dtype=np.float64)\n",
    "\n",
    "    loss, grads = model.loss(X, y)\n",
    "    print('Initial loss: ', loss)\n",
    "    \n",
    "    # Most of the errors should be on the order of e-7 or smaller.   \n",
    "    # NOTE: It is fine however to see an error for W2 on the order of e-5\n",
    "    # for the check when reg = 0.0\n",
    "\n",
    "    for name in sorted(grads):\n",
    "        f = lambda _: model.loss(X, y)[0]\n",
    "        grad_num = eval_numerical_gradient(f, model.params[name], verbose=False, h=1e-5)\n",
    "        print('%s relative error: %.2e' % (name, rel_error(grad_num, grads[name])))"
   ]
  },
  {
   "cell_type": "markdown",
   "metadata": {},
   "source": [
    "As another sanity check, make sure you can overfit a small dataset of 50 images. First we will try a three-layer network with 100 units in each hidden layer. In the following cell, tweak the **learning rate** and **weight initialization scale** to overfit and achieve 100% training accuracy within 20 epochs."
   ]
  },
  {
   "cell_type": "code",
   "execution_count": 5,
   "metadata": {
    "scrolled": false
   },
   "outputs": [
    {
     "name": "stdout",
     "output_type": "stream",
     "text": [
      "(Iteration 1 / 40) loss: 2.295682\n",
      "(Epoch 0 / 20) train acc: 0.100000; val_acc: 0.084000\n",
      "(Epoch 1 / 20) train acc: 0.100000; val_acc: 0.086000\n",
      "(Epoch 2 / 20) train acc: 0.100000; val_acc: 0.086000\n",
      "(Epoch 3 / 20) train acc: 0.100000; val_acc: 0.088000\n",
      "(Epoch 4 / 20) train acc: 0.100000; val_acc: 0.087000\n",
      "(Epoch 5 / 20) train acc: 0.100000; val_acc: 0.089000\n",
      "(Iteration 11 / 40) loss: 2.264267\n",
      "(Epoch 6 / 20) train acc: 0.100000; val_acc: 0.089000\n",
      "(Epoch 7 / 20) train acc: 0.120000; val_acc: 0.087000\n",
      "(Epoch 8 / 20) train acc: 0.120000; val_acc: 0.088000\n",
      "(Epoch 9 / 20) train acc: 0.120000; val_acc: 0.089000\n",
      "(Epoch 10 / 20) train acc: 0.120000; val_acc: 0.089000\n",
      "(Iteration 21 / 40) loss: 2.239936\n",
      "(Epoch 11 / 20) train acc: 0.140000; val_acc: 0.091000\n",
      "(Epoch 12 / 20) train acc: 0.160000; val_acc: 0.092000\n",
      "(Epoch 13 / 20) train acc: 0.160000; val_acc: 0.092000\n",
      "(Epoch 14 / 20) train acc: 0.200000; val_acc: 0.092000\n",
      "(Epoch 15 / 20) train acc: 0.200000; val_acc: 0.092000\n",
      "(Iteration 31 / 40) loss: 2.221598\n",
      "(Epoch 16 / 20) train acc: 0.200000; val_acc: 0.092000\n",
      "(Epoch 17 / 20) train acc: 0.200000; val_acc: 0.094000\n",
      "(Epoch 18 / 20) train acc: 0.200000; val_acc: 0.092000\n",
      "(Epoch 19 / 20) train acc: 0.200000; val_acc: 0.095000\n",
      "(Epoch 20 / 20) train acc: 0.240000; val_acc: 0.094000\n"
     ]
    },
    {
     "data": {
      "image/png": "[encoded data removed]",
      "text/plain": [
       "<Figure size 432x288 with 1 Axes>"
      ]
     },
     "metadata": {
      "needs_background": "light"
     },
     "output_type": "display_data"
    }
   ],
   "source": [
    "# TODO: Use a three-layer Net to overfit 50 training examples by \n",
    "# tweaking just the learning rate and initialization scale.\n",
    "\n",
    "num_train = 50\n",
    "small_data = {\n",
    "  'X_train': data['X_train'][:num_train],\n",
    "  'y_train': data['y_train'][:num_train],\n",
    "  'X_val': data['X_val'],\n",
    "  'y_val': data['y_val'],\n",
    "}\n",
    "\n",
    "weight_scale = 1e-2   # Experiment with this!\n",
    "learning_rate = 1e-4  # Experiment with this!\n",
    "model = FullyConnectedNet([100, 100],\n",
    "              weight_scale=weight_scale, dtype=np.float64)\n",
    "solver = Solver(model, small_data,\n",
    "                print_every=10, num_epochs=20, batch_size=25,\n",
    "                update_rule='sgd',\n",
    "                optim_config={\n",
    "                  'learning_rate': learning_rate,\n",
    "                }\n",
    "         )\n",
    "solver.train()\n",
    "\n",
    "plt.plot(solver.loss_history, 'o')\n",
    "plt.title('Training loss history')\n",
    "plt.xlabel('Iteration')\n",
    "plt.ylabel('Training loss')\n",
    "plt.show()"
   ]
  },
  {
   "cell_type": "markdown",
   "metadata": {},
   "source": [
    "Now try to use a five-layer network with 100 units on each layer to overfit 50 training examples. Again, you will have to adjust the learning rate and weight initialization scale, but you should be able to achieve 100% training accuracy within 20 epochs."
   ]
  },
  {
   "cell_type": "code",
   "execution_count": 6,
   "metadata": {},
   "outputs": [
    {
     "name": "stdout",
     "output_type": "stream",
     "text": [
      "(Iteration 1 / 40) loss: 2.302585\n",
      "(Epoch 0 / 20) train acc: 0.160000; val_acc: 0.079000\n",
      "(Epoch 1 / 20) train acc: 0.160000; val_acc: 0.079000\n",
      "(Epoch 2 / 20) train acc: 0.160000; val_acc: 0.079000\n",
      "(Epoch 3 / 20) train acc: 0.160000; val_acc: 0.079000\n",
      "(Epoch 4 / 20) train acc: 0.160000; val_acc: 0.079000\n",
      "(Epoch 5 / 20) train acc: 0.160000; val_acc: 0.079000\n",
      "(Iteration 11 / 40) loss: 2.302546\n",
      "(Epoch 6 / 20) train acc: 0.160000; val_acc: 0.079000\n",
      "(Epoch 7 / 20) train acc: 0.160000; val_acc: 0.079000\n",
      "(Epoch 8 / 20) train acc: 0.160000; val_acc: 0.079000\n",
      "(Epoch 9 / 20) train acc: 0.160000; val_acc: 0.079000\n",
      "(Epoch 10 / 20) train acc: 0.160000; val_acc: 0.079000\n",
      "(Iteration 21 / 40) loss: 2.302530\n",
      "(Epoch 11 / 20) train acc: 0.160000; val_acc: 0.079000\n",
      "(Epoch 12 / 20) train acc: 0.160000; val_acc: 0.079000\n",
      "(Epoch 13 / 20) train acc: 0.160000; val_acc: 0.079000\n",
      "(Epoch 14 / 20) train acc: 0.160000; val_acc: 0.079000\n",
      "(Epoch 15 / 20) train acc: 0.160000; val_acc: 0.079000\n",
      "(Iteration 31 / 40) loss: 2.302376\n",
      "(Epoch 16 / 20) train acc: 0.160000; val_acc: 0.079000\n",
      "(Epoch 17 / 20) train acc: 0.160000; val_acc: 0.079000\n",
      "(Epoch 18 / 20) train acc: 0.160000; val_acc: 0.079000\n",
      "(Epoch 19 / 20) train acc: 0.160000; val_acc: 0.079000\n",
      "(Epoch 20 / 20) train acc: 0.160000; val_acc: 0.079000\n"
     ]
    },
    {
     "data": {
      "image/png": "[encoded data removed]",
      "text/plain": [
       "<Figure size 432x288 with 1 Axes>"
      ]
     },
     "metadata": {
      "needs_background": "light"
     },
     "output_type": "display_data"
    }
   ],
   "source": [
    "# TODO: Use a five-layer Net to overfit 50 training examples by \n",
    "# tweaking just the learning rate and initialization scale.\n",
    "\n",
    "num_train = 50\n",
    "small_data = {\n",
    "  'X_train': data['X_train'][:num_train],\n",
    "  'y_train': data['y_train'][:num_train],\n",
    "  'X_val': data['X_val'],\n",
    "  'y_val': data['y_val'],\n",
    "}\n",
    "\n",
    "learning_rate = 2e-3  # Experiment with this!\n",
    "weight_scale = 1e-5   # Experiment with this!\n",
    "model = FullyConnectedNet([100, 100, 100, 100],\n",
    "                weight_scale=weight_scale, dtype=np.float64)\n",
    "solver = Solver(model, small_data,\n",
    "                print_every=10, num_epochs=20, batch_size=25,\n",
    "                update_rule='sgd',\n",
    "                optim_config={\n",
    "                  'learning_rate': learning_rate,\n",
    "                }\n",
    "         )\n",
    "solver.train()\n",
    "\n",
    "plt.plot(solver.loss_history, 'o')\n",
    "plt.title('Training loss history')\n",
    "plt.xlabel('Iteration')\n",
    "plt.ylabel('Training loss')\n",
    "plt.show()"
   ]
  },
  {
   "cell_type": "markdown",
   "metadata": {
    "tags": [
     "pdf-inline"
    ]
   },
   "source": [
    "## Inline Question 2: \n",
    "Did you notice anything about the comparative difficulty of training the three-layer net vs training the five layer net? In particular, based on your experience, which network seemed more sensitive to the initialization scale? Why do you think that is the case?\n",
    "\n",
    "## Answer:\n",
    "[FILL THIS IN]\n"
   ]
  },
  {
   "cell_type": "markdown",
   "metadata": {},
   "source": [
    "# Update rules\n",
    "So far we have used vanilla stochastic gradient descent (SGD) as our update rule. More sophisticated update rules can make it easier to train deep networks. We will implement a few of the most commonly used update rules and compare them to vanilla SGD."
   ]
  },
  {
   "cell_type": "markdown",
   "metadata": {},
   "source": [
    "# SGD+Momentum\n",
    "Stochastic gradient descent with momentum is a widely used update rule that tends to make deep networks converge faster than vanilla stochastic gradient descent. See the Momentum Update section at http://cs231n.github.io/neural-networks-3/#sgd for more information.\n",
    "\n",
    "Open the file `cs231n/optim.py` and read the documentation at the top of the file to make sure you understand the API. Implement the SGD+momentum update rule in the function `sgd_momentum` and run the following to check your implementation. You should see errors less than e-8."
   ]
  },
  {
   "cell_type": "code",
   "execution_count": 7,
   "metadata": {},
   "outputs": [
    {
     "name": "stdout",
     "output_type": "stream",
     "text": [
      "next_w error:  8.882347033505819e-09\n",
      "velocity error:  4.269287743278663e-09\n"
     ]
    }
   ],
   "source": [
    "from cs231n.optim import sgd_momentum\n",
    "\n",
    "N, D = 4, 5\n",
    "w = np.linspace(-0.4, 0.6, num=N*D).reshape(N, D)\n",
    "dw = np.linspace(-0.6, 0.4, num=N*D).reshape(N, D)\n",
    "v = np.linspace(0.6, 0.9, num=N*D).reshape(N, D)\n",
    "\n",
    "config = {'learning_rate': 1e-3, 'velocity': v}\n",
    "next_w, _ = sgd_momentum(w, dw, config=config)\n",
    "\n",
    "expected_next_w = np.asarray([\n",
    "  [ 0.1406,      0.20738947,  0.27417895,  0.34096842,  0.40775789],\n",
    "  [ 0.47454737,  0.54133684,  0.60812632,  0.67491579,  0.74170526],\n",
    "  [ 0.80849474,  0.87528421,  0.94207368,  1.00886316,  1.07565263],\n",
    "  [ 1.14244211,  1.20923158,  1.27602105,  1.34281053,  1.4096    ]])\n",
    "expected_velocity = np.asarray([\n",
    "  [ 0.5406,      0.55475789,  0.56891579, 0.58307368,  0.59723158],\n",
    "  [ 0.61138947,  0.62554737,  0.63970526,  0.65386316,  0.66802105],\n",
    "  [ 0.68217895,  0.69633684,  0.71049474,  0.72465263,  0.73881053],\n",
    "  [ 0.75296842,  0.76712632,  0.78128421,  0.79544211,  0.8096    ]])\n",
    "\n",
    "# Should see relative errors around e-8 or less\n",
    "print('next_w error: ', rel_error(next_w, expected_next_w))\n",
    "print('velocity error: ', rel_error(expected_velocity, config['velocity']))"
   ]
  },
  {
   "cell_type": "markdown",
   "metadata": {},
   "source": [
    "Once you have done so, run the following to train a six-layer network with both SGD and SGD+momentum. You should see the SGD+momentum update rule converge faster."
   ]
  },
  {
   "cell_type": "code",
   "execution_count": 8,
   "metadata": {
    "scrolled": false
   },
   "outputs": [
    {
     "name": "stdout",
     "output_type": "stream",
     "text": [
      "running with  sgd\n",
      "(Iteration 1 / 200) loss: 2.375472\n",
      "(Epoch 0 / 5) train acc: 0.083000; val_acc: 0.093000\n",
      "(Iteration 11 / 200) loss: 2.302272\n",
      "(Iteration 21 / 200) loss: 2.319347\n",
      "(Iteration 31 / 200) loss: 2.241107\n",
      "(Epoch 1 / 5) train acc: 0.179000; val_acc: 0.148000\n",
      "(Iteration 41 / 200) loss: 2.296361\n",
      "(Iteration 51 / 200) loss: 2.229905\n",
      "(Iteration 61 / 200) loss: 2.193033\n",
      "(Iteration 71 / 200) loss: 2.106446\n",
      "(Epoch 2 / 5) train acc: 0.221000; val_acc: 0.187000\n",
      "(Iteration 81 / 200) loss: 2.108434\n",
      "(Iteration 91 / 200) loss: 2.131977\n",
      "(Iteration 101 / 200) loss: 2.051371\n",
      "(Iteration 111 / 200) loss: 2.047836\n",
      "(Epoch 3 / 5) train acc: 0.240000; val_acc: 0.235000\n",
      "(Iteration 121 / 200) loss: 2.052183\n",
      "(Iteration 131 / 200) loss: 2.050822\n",
      "(Iteration 141 / 200) loss: 2.109059\n",
      "(Iteration 151 / 200) loss: 2.131310\n",
      "(Epoch 4 / 5) train acc: 0.281000; val_acc: 0.253000\n",
      "(Iteration 161 / 200) loss: 2.092345\n",
      "(Iteration 171 / 200) loss: 1.889742\n",
      "(Iteration 181 / 200) loss: 1.991834\n",
      "(Iteration 191 / 200) loss: 1.992939\n",
      "(Epoch 5 / 5) train acc: 0.322000; val_acc: 0.280000\n",
      "\n",
      "running with  sgd_momentum\n",
      "(Iteration 1 / 200) loss: 2.488408\n",
      "(Epoch 0 / 5) train acc: 0.079000; val_acc: 0.123000\n",
      "(Iteration 11 / 200) loss: 2.297548\n",
      "(Iteration 21 / 200) loss: 2.285809\n",
      "(Iteration 31 / 200) loss: 2.280916\n",
      "(Epoch 1 / 5) train acc: 0.174000; val_acc: 0.162000\n",
      "(Iteration 41 / 200) loss: 2.102532\n",
      "(Iteration 51 / 200) loss: 2.241767\n",
      "(Iteration 61 / 200) loss: 2.172008\n",
      "(Iteration 71 / 200) loss: 2.109556\n",
      "(Epoch 2 / 5) train acc: 0.193000; val_acc: 0.175000\n",
      "(Iteration 81 / 200) loss: 2.088284\n",
      "(Iteration 91 / 200) loss: 1.966803\n",
      "(Iteration 101 / 200) loss: 2.028525\n",
      "(Iteration 111 / 200) loss: 2.022042\n",
      "(Epoch 3 / 5) train acc: 0.314000; val_acc: 0.282000\n",
      "(Iteration 121 / 200) loss: 2.061870\n",
      "(Iteration 131 / 200) loss: 2.080555\n",
      "(Iteration 141 / 200) loss: 1.745593\n",
      "(Iteration 151 / 200) loss: 1.828197\n",
      "(Epoch 4 / 5) train acc: 0.406000; val_acc: 0.321000\n",
      "(Iteration 161 / 200) loss: 1.708066\n",
      "(Iteration 171 / 200) loss: 1.900310\n",
      "(Iteration 181 / 200) loss: 1.764307\n",
      "(Iteration 191 / 200) loss: 1.910205\n",
      "(Epoch 5 / 5) train acc: 0.414000; val_acc: 0.309000\n",
      "\n"
     ]
    },
    {
     "name": "stderr",
     "output_type": "stream",
     "text": [
      "C:\\Users\\Ryu\\Anaconda3\\envs\\CS231n\\lib\\site-packages\\matplotlib\\figure.py:98: MatplotlibDeprecationWarning: \n",
      "Adding an axes using the same arguments as a previous axes currently reuses the earlier instance.  In a future version, a new instance will always be created and returned.  Meanwhile, this warning can be suppressed, and the future behavior ensured, by passing a unique label to each axes instance.\n",
      "  \"Adding an axes using the same arguments as a previous axes \"\n"
     ]
    },
    {
     "data": {
      "image/png": "[encoded data removed]",
      "text/plain": [
       "<Figure size 1080x1080 with 3 Axes>"
      ]
     },
     "metadata": {
      "needs_background": "light"
     },
     "output_type": "display_data"
    }
   ],
   "source": [
    "num_train = 4000\n",
    "small_data = {\n",
    "  'X_train': data['X_train'][:num_train],\n",
    "  'y_train': data['y_train'][:num_train],\n",
    "  'X_val': data['X_val'],\n",
    "  'y_val': data['y_val'],\n",
    "}\n",
    "\n",
    "solvers = {}\n",
    "\n",
    "for update_rule in ['sgd', 'sgd_momentum']:\n",
    "    print('running with ', update_rule)\n",
    "    model = FullyConnectedNet([100, 100, 100, 100, 100], weight_scale=5e-2)\n",
    "\n",
    "    solver = Solver(model, small_data,\n",
    "                  num_epochs=5, batch_size=100,\n",
    "                  update_rule=update_rule,\n",
    "                  optim_config={\n",
    "                    'learning_rate': 5e-3,\n",
    "                  },\n",
    "                  verbose=True)\n",
    "    solvers[update_rule] = solver\n",
    "    solver.train()\n",
    "    print()\n",
    "\n",
    "plt.subplot(3, 1, 1)\n",
    "plt.title('Training loss')\n",
    "plt.xlabel('Iteration')\n",
    "\n",
    "plt.subplot(3, 1, 2)\n",
    "plt.title('Training accuracy')\n",
    "plt.xlabel('Epoch')\n",
    "\n",
    "plt.subplot(3, 1, 3)\n",
    "plt.title('Validation accuracy')\n",
    "plt.xlabel('Epoch')\n",
    "\n",
    "for update_rule, solver in solvers.items():\n",
    "    plt.subplot(3, 1, 1)\n",
    "    plt.plot(solver.loss_history, 'o', label=\"loss_%s\" % update_rule)\n",
    "    \n",
    "    plt.subplot(3, 1, 2)\n",
    "    plt.plot(solver.train_acc_history, '-o', label=\"train_acc_%s\" % update_rule)\n",
    "\n",
    "    plt.subplot(3, 1, 3)\n",
    "    plt.plot(solver.val_acc_history, '-o', label=\"val_acc_%s\" % update_rule)\n",
    "\n",
    "for i in [1, 2, 3]:\n",
    "    plt.subplot(3, 1, i)\n",
    "    plt.legend(loc='upper center', ncol=4)\n",
    "plt.gcf().set_size_inches(15, 15)\n",
    "plt.show()"
   ]
  },
  {
   "cell_type": "markdown",
   "metadata": {},
   "source": [
    "# RMSProp and Adam\n",
    "RMSProp [1] and Adam [2] are update rules that set per-parameter learning rates by using a running average of the second moments of gradients.\n",
    "\n",
    "In the file `cs231n/optim.py`, implement the RMSProp update rule in the `rmsprop` function and implement the Adam update rule in the `adam` function, and check your implementations using the tests below.\n",
    "\n",
    "**NOTE:** Please implement the _complete_ Adam update rule (with the bias correction mechanism), not the first simplified version mentioned in the course notes. \n",
    "\n",
    "[1] Tijmen Tieleman and Geoffrey Hinton. \"Lecture 6.5-rmsprop: Divide the gradient by a running average of its recent magnitude.\" COURSERA: Neural Networks for Machine Learning 4 (2012).\n",
    "\n",
    "[2] Diederik Kingma and Jimmy Ba, \"Adam: A Method for Stochastic Optimization\", ICLR 2015."
   ]
  },
  {
   "cell_type": "code",
   "execution_count": 13,
   "metadata": {},
   "outputs": [
    {
     "name": "stdout",
     "output_type": "stream",
     "text": [
      "next_w error:  9.524687511038133e-08\n",
      "cache error:  2.6477955807156126e-09\n"
     ]
    }
   ],
   "source": [
    "# Test RMSProp implementation\n",
    "from cs231n.optim import rmsprop\n",
    "\n",
    "N, D = 4, 5\n",
    "w = np.linspace(-0.4, 0.6, num=N*D).reshape(N, D)\n",
    "dw = np.linspace(-0.6, 0.4, num=N*D).reshape(N, D)\n",
    "cache = np.linspace(0.6, 0.9, num=N*D).reshape(N, D)\n",
    "\n",
    "config = {'learning_rate': 1e-2, 'cache': cache}\n",
    "next_w, _ = rmsprop(w, dw, config=config)\n",
    "\n",
    "expected_next_w = np.asarray([\n",
    "  [-0.39223849, -0.34037513, -0.28849239, -0.23659121, -0.18467247],\n",
    "  [-0.132737,   -0.08078555, -0.02881884,  0.02316247,  0.07515774],\n",
    "  [ 0.12716641,  0.17918792,  0.23122175,  0.28326742,  0.33532447],\n",
    "  [ 0.38739248,  0.43947102,  0.49155973,  0.54365823,  0.59576619]])\n",
    "expected_cache = np.asarray([\n",
    "  [ 0.5976,      0.6126277,   0.6277108,   0.64284931,  0.65804321],\n",
    "  [ 0.67329252,  0.68859723,  0.70395734,  0.71937285,  0.73484377],\n",
    "  [ 0.75037008,  0.7659518,   0.78158892,  0.79728144,  0.81302936],\n",
    "  [ 0.82883269,  0.84469141,  0.86060554,  0.87657507,  0.8926    ]])\n",
    "\n",
    "# You should see relative errors around e-7 or less\n",
    "print('next_w error: ', rel_error(expected_next_w, next_w))\n",
    "print('cache error: ', rel_error(expected_cache, config['cache']))"
   ]
  },
  {
   "cell_type": "code",
   "execution_count": 3,
   "metadata": {},
   "outputs": [
    {
     "name": "stdout",
     "output_type": "stream",
     "text": [
      "next_w error:  1.1395691798535431e-07\n",
      "v error:  4.208314038113071e-09\n",
      "m error:  4.214963193114416e-09\n"
     ]
    }
   ],
   "source": [
    "# Test Adam implementation\n",
    "from cs231n.optim import adam\n",
    "\n",
    "N, D = 4, 5\n",
    "w = np.linspace(-0.4, 0.6, num=N*D).reshape(N, D)\n",
    "dw = np.linspace(-0.6, 0.4, num=N*D).reshape(N, D)\n",
    "m = np.linspace(0.6, 0.9, num=N*D).reshape(N, D)\n",
    "v = np.linspace(0.7, 0.5, num=N*D).reshape(N, D)\n",
    "\n",
    "config = {'learning_rate': 1e-2, 'm': m, 'v': v, 't': 5}\n",
    "next_w, _ = adam(w, dw, config=config)\n",
    "\n",
    "expected_next_w = np.asarray([\n",
    "  [-0.40094747, -0.34836187, -0.29577703, -0.24319299, -0.19060977],\n",
    "  [-0.1380274,  -0.08544591, -0.03286534,  0.01971428,  0.0722929],\n",
    "  [ 0.1248705,   0.17744702,  0.23002243,  0.28259667,  0.33516969],\n",
    "  [ 0.38774145,  0.44031188,  0.49288093,  0.54544852,  0.59801459]])\n",
    "expected_v = np.asarray([\n",
    "  [ 0.69966,     0.68908382,  0.67851319,  0.66794809,  0.65738853,],\n",
    "  [ 0.64683452,  0.63628604,  0.6257431,   0.61520571,  0.60467385,],\n",
    "  [ 0.59414753,  0.58362676,  0.57311152,  0.56260183,  0.55209767,],\n",
    "  [ 0.54159906,  0.53110598,  0.52061845,  0.51013645,  0.49966,   ]])\n",
    "expected_m = np.asarray([\n",
    "  [ 0.48,        0.49947368,  0.51894737,  0.53842105,  0.55789474],\n",
    "  [ 0.57736842,  0.59684211,  0.61631579,  0.63578947,  0.65526316],\n",
    "  [ 0.67473684,  0.69421053,  0.71368421,  0.73315789,  0.75263158],\n",
    "  [ 0.77210526,  0.79157895,  0.81105263,  0.83052632,  0.85      ]])\n",
    "\n",
    "# You should see relative errors around e-7 or less\n",
    "print('next_w error: ', rel_error(expected_next_w, next_w))\n",
    "print('v error: ', rel_error(expected_v, config['v']))\n",
    "print('m error: ', rel_error(expected_m, config['m']))"
   ]
  },
  {
   "cell_type": "markdown",
   "metadata": {},
   "source": [
    "Once you have debugged your RMSProp and Adam implementations, run the following to train a pair of deep networks using these new update rules:"
   ]
  },
  {
   "cell_type": "code",
   "execution_count": 4,
   "metadata": {
    "scrolled": true
   },
   "outputs": [
    {
     "name": "stdout",
     "output_type": "stream",
     "text": [
      "running with  adam\n"
     ]
    },
    {
     "ename": "NameError",
     "evalue": "name 'small_data' is not defined",
     "output_type": "error",
     "traceback": [
      "\u001b[1;31m---------------------------------------------------------------------------\u001b[0m",
      "\u001b[1;31mNameError\u001b[0m                                 Traceback (most recent call last)",
      "\u001b[1;32m<ipython-input-4-d73d2d1a8135>\u001b[0m in \u001b[0;36m<module>\u001b[1;34m\u001b[0m\n\u001b[0;32m      4\u001b[0m     \u001b[0mmodel\u001b[0m \u001b[1;33m=\u001b[0m \u001b[0mFullyConnectedNet\u001b[0m\u001b[1;33m(\u001b[0m\u001b[1;33m[\u001b[0m\u001b[1;36m100\u001b[0m\u001b[1;33m,\u001b[0m \u001b[1;36m100\u001b[0m\u001b[1;33m,\u001b[0m \u001b[1;36m100\u001b[0m\u001b[1;33m,\u001b[0m \u001b[1;36m100\u001b[0m\u001b[1;33m,\u001b[0m \u001b[1;36m100\u001b[0m\u001b[1;33m]\u001b[0m\u001b[1;33m,\u001b[0m \u001b[0mweight_scale\u001b[0m\u001b[1;33m=\u001b[0m\u001b[1;36m5e-2\u001b[0m\u001b[1;33m)\u001b[0m\u001b[1;33m\u001b[0m\u001b[1;33m\u001b[0m\u001b[0m\n\u001b[0;32m      5\u001b[0m \u001b[1;33m\u001b[0m\u001b[0m\n\u001b[1;32m----> 6\u001b[1;33m     solver = Solver(model, small_data,\n\u001b[0m\u001b[0;32m      7\u001b[0m                   \u001b[0mnum_epochs\u001b[0m\u001b[1;33m=\u001b[0m\u001b[1;36m5\u001b[0m\u001b[1;33m,\u001b[0m \u001b[0mbatch_size\u001b[0m\u001b[1;33m=\u001b[0m\u001b[1;36m100\u001b[0m\u001b[1;33m,\u001b[0m\u001b[1;33m\u001b[0m\u001b[1;33m\u001b[0m\u001b[0m\n\u001b[0;32m      8\u001b[0m                   \u001b[0mupdate_rule\u001b[0m\u001b[1;33m=\u001b[0m\u001b[0mupdate_rule\u001b[0m\u001b[1;33m,\u001b[0m\u001b[1;33m\u001b[0m\u001b[1;33m\u001b[0m\u001b[0m\n",
      "\u001b[1;31mNameError\u001b[0m: name 'small_data' is not defined"
     ]
    }
   ],
   "source": [
    "learning_rates = {'rmsprop': 1e-4, 'adam': 1e-3}\n",
    "for update_rule in ['adam', 'rmsprop']:\n",
    "    print('running with ', update_rule)\n",
    "    model = FullyConnectedNet([100, 100, 100, 100, 100], weight_scale=5e-2)\n",
    "\n",
    "    solver = Solver(model, small_data,\n",
    "                  num_epochs=5, batch_size=100,\n",
    "                  update_rule=update_rule,\n",
    "                  optim_config={\n",
    "                    'learning_rate': learning_rates[update_rule]\n",
    "                  },\n",
    "                  verbose=True)\n",
    "    solvers[update_rule] = solver\n",
    "    solver.train()\n",
    "    print()\n",
    "\n",
    "plt.subplot(3, 1, 1)\n",
    "plt.title('Training loss')\n",
    "plt.xlabel('Iteration')\n",
    "\n",
    "plt.subplot(3, 1, 2)\n",
    "plt.title('Training accuracy')\n",
    "plt.xlabel('Epoch')\n",
    "\n",
    "plt.subplot(3, 1, 3)\n",
    "plt.title('Validation accuracy')\n",
    "plt.xlabel('Epoch')\n",
    "\n",
    "for update_rule, solver in list(solvers.items()):\n",
    "    plt.subplot(3, 1, 1)\n",
    "    plt.plot(solver.loss_history, 'o', label=update_rule)\n",
    "    \n",
    "    plt.subplot(3, 1, 2)\n",
    "    plt.plot(solver.train_acc_history, '-o', label=update_rule)\n",
    "    \n",
    "    plt.subplot(3, 1, 3)\n",
    "    plt.plot(solver.val_acc_history, '-o', label=update_rule)\n",
    "    \n",
    "for i in [1, 2, 3]:\n",
    "    plt.subplot(3, 1, i)\n",
    "    plt.legend(loc='upper center', ncol=4)\n",
    "plt.gcf().set_size_inches(15, 15)\n",
    "plt.show()"
   ]
  },
  {
   "cell_type": "markdown",
   "metadata": {
    "tags": [
     "pdf-inline"
    ]
   },
   "source": [
    "## Inline Question 3:\n",
    "\n",
    "AdaGrad, like Adam, is a per-parameter optimization method that uses the following update rule:\n",
    "\n",
    "```\n",
    "cache += dw**2\n",
    "w += - learning_rate * dw / (np.sqrt(cache) + eps)\n",
    "```\n",
    "\n",
    "John notices that when he was training a network with AdaGrad that the updates became very small, and that his network was learning slowly. Using your knowledge of the AdaGrad update rule, why do you think the updates would become very small? Would Adam have the same issue?\n",
    "\n",
    "\n",
    "## Answer: \n",
    "[FILL THIS IN]\n"
   ]
  },
  {
   "cell_type": "markdown",
   "metadata": {},
   "source": [
    "# Train a good model!\n",
    "Train the best fully-connected model that you can on CIFAR-10, storing your best model in the `best_model` variable. We require you to get at least 50% accuracy on the validation set using a fully-connected net.\n",
    "\n",
    "If you are careful it should be possible to get accuracies above 55%, but we don't require it for this part and won't assign extra credit for doing so. Later in the assignment we will ask you to train the best convolutional network that you can on CIFAR-10, and we would prefer that you spend your effort working on convolutional nets rather than fully-connected nets.\n",
    "\n",
    "You might find it useful to complete the `BatchNormalization.ipynb` and `Dropout.ipynb` notebooks before completing this part, since those techniques can help you train powerful models."
   ]
  },
  {
   "cell_type": "code",
   "execution_count": 117,
   "metadata": {
    "scrolled": false
   },
   "outputs": [
    {
     "name": "stdout",
     "output_type": "stream",
     "text": [
      "udpate rule is adam\n",
      "(Iteration 1 / 400) loss: 2.459802\n",
      "(Epoch 0 / 10) train acc: 0.107000; val_acc: 0.122000\n",
      "(Iteration 11 / 400) loss: 2.287774\n",
      "(Iteration 21 / 400) loss: 2.066646\n",
      "(Iteration 31 / 400) loss: 2.034459\n",
      "(Epoch 1 / 10) train acc: 0.324000; val_acc: 0.283000\n",
      "(Iteration 41 / 400) loss: 1.854959\n",
      "(Iteration 51 / 400) loss: 1.986952\n",
      "(Iteration 61 / 400) loss: 1.903036\n",
      "(Iteration 71 / 400) loss: 1.985135\n",
      "(Epoch 2 / 10) train acc: 0.387000; val_acc: 0.302000\n",
      "(Iteration 81 / 400) loss: 1.911573\n",
      "(Iteration 91 / 400) loss: 2.079732\n",
      "(Iteration 101 / 400) loss: 1.781691\n",
      "(Iteration 111 / 400) loss: 1.777591\n",
      "(Epoch 3 / 10) train acc: 0.398000; val_acc: 0.295000\n",
      "(Iteration 121 / 400) loss: 1.782197\n",
      "(Iteration 131 / 400) loss: 1.777906\n",
      "(Iteration 141 / 400) loss: 1.803489\n",
      "(Iteration 151 / 400) loss: 1.460815\n",
      "(Epoch 4 / 10) train acc: 0.464000; val_acc: 0.345000\n",
      "(Iteration 161 / 400) loss: 1.651424\n",
      "(Iteration 171 / 400) loss: 1.431199\n",
      "(Iteration 181 / 400) loss: 1.543581\n",
      "(Iteration 191 / 400) loss: 1.716799\n",
      "(Epoch 5 / 10) train acc: 0.470000; val_acc: 0.353000\n",
      "(Iteration 201 / 400) loss: 1.759961\n",
      "(Iteration 211 / 400) loss: 1.461607\n",
      "(Iteration 221 / 400) loss: 1.484485\n",
      "(Iteration 231 / 400) loss: 1.426520\n",
      "(Epoch 6 / 10) train acc: 0.536000; val_acc: 0.384000\n",
      "(Iteration 241 / 400) loss: 1.480190\n",
      "(Iteration 251 / 400) loss: 1.717785\n",
      "(Iteration 261 / 400) loss: 1.525902\n",
      "(Iteration 271 / 400) loss: 1.450307\n",
      "(Epoch 7 / 10) train acc: 0.561000; val_acc: 0.353000\n",
      "(Iteration 281 / 400) loss: 1.279736\n",
      "(Iteration 291 / 400) loss: 1.321975\n",
      "(Iteration 301 / 400) loss: 0.980297\n",
      "(Iteration 311 / 400) loss: 1.239036\n",
      "(Epoch 8 / 10) train acc: 0.549000; val_acc: 0.368000\n",
      "(Iteration 321 / 400) loss: 1.407714\n",
      "(Iteration 331 / 400) loss: 1.247667\n",
      "(Iteration 341 / 400) loss: 1.014295\n",
      "(Iteration 351 / 400) loss: 1.116221\n",
      "(Epoch 9 / 10) train acc: 0.639000; val_acc: 0.378000\n",
      "(Iteration 361 / 400) loss: 1.078718\n",
      "(Iteration 371 / 400) loss: 1.218949\n",
      "(Iteration 381 / 400) loss: 1.176975\n",
      "(Iteration 391 / 400) loss: 0.996097\n",
      "(Epoch 10 / 10) train acc: 0.642000; val_acc: 0.372000\n",
      "\n",
      "update with adam, learing_rate is 0.001, batch_size is 100\n",
      "val_accuracy is 0.384\n",
      "udpate rule is rmsprop\n",
      "(Iteration 1 / 400) loss: 2.345500\n",
      "(Epoch 0 / 10) train acc: 0.098000; val_acc: 0.108000\n",
      "(Iteration 11 / 400) loss: 2.302585\n",
      "(Iteration 21 / 400) loss: 2.302585\n",
      "(Iteration 31 / 400) loss: 2.302585\n",
      "(Epoch 1 / 10) train acc: 0.105000; val_acc: 0.087000\n",
      "(Iteration 41 / 400) loss: 2.302585\n",
      "(Iteration 51 / 400) loss: 2.302585\n",
      "(Iteration 61 / 400) loss: 2.302585\n",
      "(Iteration 71 / 400) loss: 2.302585\n",
      "(Epoch 2 / 10) train acc: 0.101000; val_acc: 0.087000\n",
      "(Iteration 81 / 400) loss: 2.302585\n",
      "(Iteration 91 / 400) loss: 2.302585\n",
      "(Iteration 101 / 400) loss: 2.302585\n",
      "(Iteration 111 / 400) loss: 2.302585\n",
      "(Epoch 3 / 10) train acc: 0.103000; val_acc: 0.087000\n",
      "(Iteration 121 / 400) loss: 2.302585\n",
      "(Iteration 131 / 400) loss: 2.302585\n",
      "(Iteration 141 / 400) loss: 2.302585\n",
      "(Iteration 151 / 400) loss: 2.302585\n",
      "(Epoch 4 / 10) train acc: 0.097000; val_acc: 0.087000\n",
      "(Iteration 161 / 400) loss: 2.302585\n",
      "(Iteration 171 / 400) loss: 2.302585\n",
      "(Iteration 181 / 400) loss: 2.302585\n",
      "(Iteration 191 / 400) loss: 2.302585\n",
      "(Epoch 5 / 10) train acc: 0.095000; val_acc: 0.087000\n",
      "(Iteration 201 / 400) loss: 2.302585\n",
      "(Iteration 211 / 400) loss: 2.302585\n",
      "(Iteration 221 / 400) loss: 2.302585\n",
      "(Iteration 231 / 400) loss: 2.302585\n",
      "(Epoch 6 / 10) train acc: 0.115000; val_acc: 0.087000\n",
      "(Iteration 241 / 400) loss: 2.302585\n",
      "(Iteration 251 / 400) loss: 2.302585\n",
      "(Iteration 261 / 400) loss: 2.302585\n",
      "(Iteration 271 / 400) loss: 2.302585\n",
      "(Epoch 7 / 10) train acc: 0.090000; val_acc: 0.087000\n",
      "(Iteration 281 / 400) loss: 2.302585\n",
      "(Iteration 291 / 400) loss: 2.302585\n",
      "(Iteration 301 / 400) loss: 2.302585\n",
      "(Iteration 311 / 400) loss: 2.302585\n",
      "(Epoch 8 / 10) train acc: 0.105000; val_acc: 0.087000\n",
      "(Iteration 321 / 400) loss: 2.302585\n",
      "(Iteration 331 / 400) loss: 2.302585\n",
      "(Iteration 341 / 400) loss: 2.302585\n",
      "(Iteration 351 / 400) loss: 2.302585\n",
      "(Epoch 9 / 10) train acc: 0.105000; val_acc: 0.087000\n",
      "(Iteration 361 / 400) loss: 2.302585\n",
      "(Iteration 371 / 400) loss: 2.302585\n",
      "(Iteration 381 / 400) loss: 2.302585\n",
      "(Iteration 391 / 400) loss: 2.302585\n",
      "(Epoch 10 / 10) train acc: 0.106000; val_acc: 0.087000\n",
      "\n",
      "update with rmsprop, learing_rate is 0.001, batch_size is 100\n",
      "val_accuracy is 0.108\n",
      "udpate rule is adam\n",
      "(Iteration 1 / 400) loss: 2.878669\n",
      "(Epoch 0 / 10) train acc: 0.109000; val_acc: 0.106000\n",
      "(Iteration 11 / 400) loss: 2.276736\n",
      "(Iteration 21 / 400) loss: 2.080387\n",
      "(Iteration 31 / 400) loss: 1.749810\n",
      "(Epoch 1 / 10) train acc: 0.371000; val_acc: 0.306000\n",
      "(Iteration 41 / 400) loss: 1.780168\n",
      "(Iteration 51 / 400) loss: 1.895538\n",
      "(Iteration 61 / 400) loss: 1.814331\n",
      "(Iteration 71 / 400) loss: 1.830436\n",
      "(Epoch 2 / 10) train acc: 0.436000; val_acc: 0.336000\n",
      "(Iteration 81 / 400) loss: 1.676119\n",
      "(Iteration 91 / 400) loss: 1.577951\n",
      "(Iteration 101 / 400) loss: 1.424867\n",
      "(Iteration 111 / 400) loss: 1.406923\n",
      "(Epoch 3 / 10) train acc: 0.456000; val_acc: 0.341000\n",
      "(Iteration 121 / 400) loss: 1.511327\n",
      "(Iteration 131 / 400) loss: 1.415550\n",
      "(Iteration 141 / 400) loss: 1.328840\n",
      "(Iteration 151 / 400) loss: 1.415091\n",
      "(Epoch 4 / 10) train acc: 0.558000; val_acc: 0.373000\n",
      "(Iteration 161 / 400) loss: 1.219983\n",
      "(Iteration 171 / 400) loss: 1.328936\n",
      "(Iteration 181 / 400) loss: 1.346906\n",
      "(Iteration 191 / 400) loss: 1.221280\n",
      "(Epoch 5 / 10) train acc: 0.573000; val_acc: 0.360000\n",
      "(Iteration 201 / 400) loss: 1.278567\n",
      "(Iteration 211 / 400) loss: 1.114813\n",
      "(Iteration 221 / 400) loss: 1.140614\n",
      "(Iteration 231 / 400) loss: 1.554237\n",
      "(Epoch 6 / 10) train acc: 0.643000; val_acc: 0.367000\n",
      "(Iteration 241 / 400) loss: 0.970226\n",
      "(Iteration 251 / 400) loss: 1.075717\n",
      "(Iteration 261 / 400) loss: 1.201428\n",
      "(Iteration 271 / 400) loss: 1.038959\n",
      "(Epoch 7 / 10) train acc: 0.729000; val_acc: 0.371000\n",
      "(Iteration 281 / 400) loss: 0.797596\n",
      "(Iteration 291 / 400) loss: 1.006074\n",
      "(Iteration 301 / 400) loss: 0.833068\n",
      "(Iteration 311 / 400) loss: 1.115625\n",
      "(Epoch 8 / 10) train acc: 0.732000; val_acc: 0.376000\n",
      "(Iteration 321 / 400) loss: 0.942493\n",
      "(Iteration 331 / 400) loss: 0.730056\n",
      "(Iteration 341 / 400) loss: 0.727980\n",
      "(Iteration 351 / 400) loss: 0.787767\n",
      "(Epoch 9 / 10) train acc: 0.750000; val_acc: 0.370000\n",
      "(Iteration 361 / 400) loss: 0.630220\n",
      "(Iteration 371 / 400) loss: 0.773384\n",
      "(Iteration 381 / 400) loss: 0.745901\n",
      "(Iteration 391 / 400) loss: 0.578688\n",
      "(Epoch 10 / 10) train acc: 0.802000; val_acc: 0.378000\n",
      "\n",
      "update with adam, learing_rate is 0.0005, batch_size is 100\n",
      "val_accuracy is 0.378\n",
      "udpate rule is rmsprop\n",
      "(Iteration 1 / 400) loss: 2.408904\n",
      "(Epoch 0 / 10) train acc: 0.132000; val_acc: 0.151000\n",
      "(Iteration 11 / 400) loss: 2.302585\n",
      "(Iteration 21 / 400) loss: 2.302585\n",
      "(Iteration 31 / 400) loss: 2.302585\n",
      "(Epoch 1 / 10) train acc: 0.098000; val_acc: 0.087000\n",
      "(Iteration 41 / 400) loss: 2.302585\n",
      "(Iteration 51 / 400) loss: 2.302585\n",
      "(Iteration 61 / 400) loss: 2.302585\n",
      "(Iteration 71 / 400) loss: 2.302585\n",
      "(Epoch 2 / 10) train acc: 0.084000; val_acc: 0.087000\n",
      "(Iteration 81 / 400) loss: 2.302585\n",
      "(Iteration 91 / 400) loss: 2.302585\n",
      "(Iteration 101 / 400) loss: 2.302585\n",
      "(Iteration 111 / 400) loss: 2.302585\n",
      "(Epoch 3 / 10) train acc: 0.117000; val_acc: 0.087000\n",
      "(Iteration 121 / 400) loss: 2.302585\n",
      "(Iteration 131 / 400) loss: 2.302585\n",
      "(Iteration 141 / 400) loss: 2.302585\n",
      "(Iteration 151 / 400) loss: 2.302585\n",
      "(Epoch 4 / 10) train acc: 0.081000; val_acc: 0.087000\n",
      "(Iteration 161 / 400) loss: 2.302585\n",
      "(Iteration 171 / 400) loss: 2.302585\n",
      "(Iteration 181 / 400) loss: 2.302585\n",
      "(Iteration 191 / 400) loss: 2.302585\n",
      "(Epoch 5 / 10) train acc: 0.099000; val_acc: 0.087000\n",
      "(Iteration 201 / 400) loss: 2.302585\n",
      "(Iteration 211 / 400) loss: 2.302585\n",
      "(Iteration 221 / 400) loss: 2.302585\n",
      "(Iteration 231 / 400) loss: 2.302585\n",
      "(Epoch 6 / 10) train acc: 0.076000; val_acc: 0.087000\n",
      "(Iteration 241 / 400) loss: 2.302585\n",
      "(Iteration 251 / 400) loss: 2.302585\n",
      "(Iteration 261 / 400) loss: 2.302585\n",
      "(Iteration 271 / 400) loss: 2.302585\n",
      "(Epoch 7 / 10) train acc: 0.092000; val_acc: 0.087000\n",
      "(Iteration 281 / 400) loss: 2.302585\n",
      "(Iteration 291 / 400) loss: 2.302585\n",
      "(Iteration 301 / 400) loss: 2.302585\n",
      "(Iteration 311 / 400) loss: 2.302585\n",
      "(Epoch 8 / 10) train acc: 0.087000; val_acc: 0.087000\n",
      "(Iteration 321 / 400) loss: 2.302585\n"
     ]
    },
    {
     "name": "stdout",
     "output_type": "stream",
     "text": [
      "(Iteration 331 / 400) loss: 2.302585\n",
      "(Iteration 341 / 400) loss: 2.302585\n",
      "(Iteration 351 / 400) loss: 2.302585\n",
      "(Epoch 9 / 10) train acc: 0.090000; val_acc: 0.087000\n",
      "(Iteration 361 / 400) loss: 2.302585\n",
      "(Iteration 371 / 400) loss: 2.302585\n",
      "(Iteration 381 / 400) loss: 2.302585\n",
      "(Iteration 391 / 400) loss: 2.302585\n",
      "(Epoch 10 / 10) train acc: 0.101000; val_acc: 0.087000\n",
      "\n",
      "update with rmsprop, learing_rate is 0.0005, batch_size is 100\n",
      "val_accuracy is 0.151\n",
      "---------- End ----------\n",
      "best accuracy is 0.384 \n",
      " with learing rate : 0.0005, batch_size : 100 and update with rmsprop\n"
     ]
    }
   ],
   "source": [
    "best_model = None\n",
    "################################################################################\n",
    "# TODO: Train the best FullyConnectedNet that you can on CIFAR-10. You might   #\n",
    "# find batch/layer normalization and dropout useful. Store your best model in  #\n",
    "# the best_model variable.                                                     #\n",
    "################################################################################\n",
    "# *****START OF YOUR CODE (DO NOT DELETE/MODIFY THIS LINE)*****\n",
    "\n",
    "learning_rates = [1e-3, .5e-3]\n",
    "weight_scales = [5e-2]\n",
    "batch_size_choices=[100]\n",
    "best_accuracy=0\n",
    "\n",
    "for lr in learning_rates:\n",
    "    for batch_size in batch_size_choices:\n",
    "        for weight_scale in weight_scales:\n",
    "            for update_rule in ['adam', 'rmsprop']:\n",
    "                print('udpate rule is %s' %update_rule)\n",
    "                model = FullyConnectedNet([100, 100, 100, 100, 100], weight_scale=weight_scale)\n",
    "                solver = Solver(model, small_data,\n",
    "                              num_epochs=10, batch_size=batch_size,\n",
    "                              update_rule=update_rule,\n",
    "                              optim_config={\n",
    "                                'learning_rate': lr\n",
    "                              },\n",
    "                              verbose=True)\n",
    "                solvers[update_rule] = solver\n",
    "                solver.train()\n",
    "                print()\n",
    "                val_acc = solver.best_val_acc\n",
    "                print(f'update with {update_rule}, learing_rate is {lr}, batch_size is {batch_size}')\n",
    "                print(f'val_accuracy is {val_acc}')\n",
    "            \n",
    "                if val_acc > best_accuracy:\n",
    "                    best_accuracy = val_acc\n",
    "                    best_hyperparams = [update_rule, lr, batch_size]\n",
    "                    best_model = solver\n",
    "print('---------- End ----------')\n",
    "print(f'best accuracy is {best_accuracy} \\n with learing rate : {lr}, batch_size : {batch_size} and update with {update_rule}')\n",
    "\n",
    "\n",
    "\n",
    "# *****END OF YOUR CODE (DO NOT DELETE/MODIFY THIS LINE)*****\n",
    "################################################################################\n",
    "#                              END OF YOUR CODE                                #\n",
    "################################################################################"
   ]
  },
  {
   "cell_type": "markdown",
   "metadata": {},
   "source": [
    "# Test your model!\n",
    "Run your best model on the validation and test sets. You should achieve above 50% accuracy on the validation set."
   ]
  },
  {
   "cell_type": "code",
   "execution_count": null,
   "metadata": {},
   "outputs": [],
   "source": [
    "y_test_pred = np.argmax(best_model.loss(data['X_test']), axis=1)\n",
    "y_val_pred = np.argmax(best_model.loss(data['X_val']), axis=1)\n",
    "print('Validation set accuracy: ', (y_val_pred == data['y_val']).mean())\n",
    "print('Test set accuracy: ', (y_test_pred == data['y_test']).mean())"
   ]
  }
 ],
 "metadata": {
  "kernelspec": {
   "display_name": "CS231n",
   "language": "python",
   "name": "cs231n"
  },
  "language_info": {
   "codemirror_mode": {
    "name": "ipython",
    "version": 3
   },
   "file_extension": ".py",
   "mimetype": "text/x-python",
   "name": "python",
   "nbconvert_exporter": "python",
   "pygments_lexer": "ipython3",
   "version": "3.7.3"
  }
 },
 "nbformat": 4,
 "nbformat_minor": 2
}
